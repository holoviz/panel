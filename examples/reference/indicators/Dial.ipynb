{
 "cells": [
  {
   "cell_type": "code",
   "execution_count": null,
   "metadata": {},
   "outputs": [],
   "source": [
    "import panel as pn\n",
    "\n",
    "pn.extension()"
   ]
  },
  {
   "cell_type": "markdown",
   "metadata": {},
   "source": [
    "The ``Dial`` is a value indicator providing a visual representation of a value as a simple radial dial.\n",
    "\n",
    "#### Parameters:\n",
    "\n",
    "For details on other options for customizing the component see the [layout](../../how_to/layout/index.md) and [styling](../../how_to/styling/index.md) how-to guides.\n",
    "\n",
    "* **``annulus_width``** (int, default=10): Width of the gauge annulus.\n",
    "* **``bounds``** (tuple, default=(0, 100)): The upper and lower bound of the dial.\n",
    "* **``colors``** (list): Color thresholds for the Gauge, specified as a list of tuples of the fractional threshold and the color to switch to.\n",
    "* **``default_color``** (str, default='lightblue'): Color to use if no color threshold are supplied to the `color` parameter\n",
    "* **``end_angle``** (float or int, default=-45) Angle at which the gauge ends.\n",
    "* **``format``** str(str, default='{value}%'): Formatting string for the value indicator.\n",
    "* **``nan_format``** str(str, default='-'): How to format nan values.\n",
    "* **``needle_color``** (str, default='black): Color of the needle.\n",
    "* **``needle_width``** (float, default=0.1): Radial width of needle in radians.\n",
    "* **``start_angle``** (float or int, default=225): Angle at which the gauge starts.\n",
    "* **``tick_size``** (int): Font size of the tick labels.\n",
    "* **``title_size``** (int): Font size of the title.\n",
    "* **``unfilled_color``** (str, default='whitesmoke'): Color of the unfilled region of the Dial\n",
    "* **``value``** (float or int, default=25): Value to indicate on the dial a value within the declared bounds.\n",
    "* **``value_size``** (str): Font size of value label.\n",
    "\n",
    "___"
   ]
  },
  {
   "cell_type": "markdown",
   "metadata": {},
   "source": [
    "The simplest form of a Gauge just requires setting a `value` which must be within the `bounds`. The default formatter and bounds assume you are providing a percentage:"
   ]
  },
  {
   "cell_type": "code",
   "execution_count": null,
   "metadata": {},
   "outputs": [],
   "source": [
    "pn.indicators.Dial(name='Failure Rate', value=10, bounds=(0, 100))"
   ]
  },
  {
   "cell_type": "markdown",
   "metadata": {},
   "source": [
    "If we want to display some other value such as the revolutions per minute of an engine we can set a different `bounds` value and override the `format`. Additionally we may also provide a different set of colors defining the threshold points at which the color should change as a fraction of the provided bounds. The `colors` accepts a list of tuples defining the fractions and the color:"
   ]
  },
  {
   "cell_type": "code",
   "execution_count": null,
   "metadata": {},
   "outputs": [],
   "source": [
    "pn.indicators.Dial(\n",
    "    name='Engine', value=2500, bounds=(0, 3000), format='{value} rpm',\n",
    "    colors=[(0.2, 'green'), (0.8, 'gold'), (1, 'red')]\n",
    ")"
   ]
  }
 ],
 "metadata": {
  "language_info": {
   "name": "python",
   "pygments_lexer": "ipython3"
  }
 },
 "nbformat": 4,
 "nbformat_minor": 4
}
