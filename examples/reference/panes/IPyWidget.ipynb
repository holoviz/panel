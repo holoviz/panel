{
 "cells": [
  {
   "cell_type": "code",
   "execution_count": null,
   "metadata": {},
   "outputs": [],
   "source": [
    "import numpy as np\n",
    "import panel as pn\n",
    "import ipywidgets as ipw\n",
    "\n",
    "pn.extension('ipywidgets')"
   ]
  },
  {
   "cell_type": "markdown",
   "metadata": {},
   "source": [
    "The `IPyWidget` pane renders most [ipywidgets](https://ipywidgets.readthedocs.io/en/latest/) (also known as *Jupyter widgets*) both in the notebook and in a deployed server. This allows leveraging the growing ecosystem directly within Panel by simply wrapping the component in the `IPyWidget` pane. For a list of `ipywidgets`, check out [best-of-jupyter](https://github.com/ml-tooling/best-of-jupyter#interactive-widgets--visualization).\n",
    "\n",
    "Panel works especially well with `ipywidgets` built on top of [`AnyWidget`](https://anywidget.dev/en/getting-started/). See the [`AnyWidget` Community Page](https://anywidget.dev/en/community/) for a gallery of widgets you can use with Panel.\n",
    "\n",
    "#### Prerequisites\n",
    "\n",
    "To use `ipywidgets` with Panel in a server context, you must install the [`ipywidgets_bokeh`](https://github.com/bokeh/ipywidgets_bokeh) package:\n",
    "\n",
    "```bash\n",
    "pip install ipywidgets_bokeh\n",
    "```\n",
    "\n",
    "and import the `ipywidgets` extension:\n",
    "\n",
    "```python\n",
    "pn.extension(\"ipywidgets\")\n",
    "```\n",
    "\n",
    "In a notebook, this is not necessary since Panel uses the regular notebook ipywidget renderer.\n",
    "\n",
    "#### Parameters:\n",
    "\n",
    "For details on other options for customizing the component, see the [layout](../../how_to/layout/index.md) and [styling](../../how_to/styling/index.md) how-to guides.\n",
    "\n",
    "* **`object`** (object): The ipywidget object being displayed.\n",
    "\n",
    "##### Display\n",
    "\n",
    "* **`default_layout`** (pn.layout.Panel, default=Row): Layout to wrap the plot and widgets in.\n",
    "\n",
    "___"
   ]
  },
  {
   "cell_type": "markdown",
   "metadata": {},
   "source": [
    "The `IPyWidget` pane will automatically display the `ipywidget` object while keeping all its interactive features:"
   ]
  },
  {
   "cell_type": "code",
   "execution_count": null,
   "metadata": {},
   "outputs": [],
   "source": [
    "date   = ipw.DatePicker(description='Date')\n",
    "slider = ipw.FloatSlider(description='Float')\n",
    "play   = ipw.Play()\n",
    "\n",
    "layout = ipw.HBox(children=[date, slider, play])\n",
    "\n",
    "ipywidget_pane = pn.pane.IPyWidget(layout)\n",
    "ipywidget_pane"
   ]
  },
  {
   "cell_type": "markdown",
   "metadata": {},
   "source": [
    "You can use `pn.panel` as an alternative to `pn.pane.IPyWidget`:"
   ]
  },
  {
   "cell_type": "code",
   "execution_count": null,
   "metadata": {},
   "outputs": [],
   "source": [
    "pn.panel(layout)"
   ]
  },
  {
   "cell_type": "markdown",
   "metadata": {},
   "source": [
    "## Updates\n",
    "\n",
    "You can update the `.object` of the `IPyWidget` pane:"
   ]
  },
  {
   "cell_type": "code",
   "execution_count": null,
   "metadata": {},
   "outputs": [],
   "source": [
    "import ipyleaflet as ipyl\n",
    "\n",
    "cities = {\n",
    "    \"London\": (51.5074, 0.1278),\n",
    "    \"Paris\": (48.8566, 2.3522),\n",
    "    \"New York\": (40.7128, -74.0060)\n",
    "}\n",
    "\n",
    "city = pn.widgets.Select(name=\"City\", options=list(cities))\n",
    "container = pn.pane.IPyWidget(width=500)\n",
    "\n",
    "def update_container(city, container=container):\n",
    "    container.object = ipyl.Map(zoom=4, center=cities[city])\n",
    "city.rx.watch(update_container)\n",
    "update_container(city.value)\n",
    "    \n",
    "pn.Column(city, container)"
   ]
  },
  {
   "cell_type": "markdown",
   "metadata": {},
   "source": [
    "## Efficient Updates\n",
    "\n",
    "In the previous section, you may have noticed the screen *flicker* when selecting another city in the dropdown. This happens because we create and display the map from scratch on user interactions.\n",
    "\n",
    "To avoid screen *flicker* and update more efficiently, **you should update the existing `ipywidget` *in-place* whenever possible**:"
   ]
  },
  {
   "cell_type": "code",
   "execution_count": null,
   "metadata": {},
   "outputs": [],
   "source": [
    "import ipyleaflet as ipyl\n",
    "\n",
    "cities = {\n",
    "    \"London\": (51.5074, 0.1278),\n",
    "    \"Paris\": (48.8566, 2.3522),\n",
    "    \"New York\": (40.7128, -74.0060)\n",
    "}\n",
    "\n",
    "city = pn.widgets.Select(name=\"City\", options=list(cities))\n",
    "leaflet_map = ipyl.Map(zoom=4, center=cities[city.value])\n",
    "container = pn.pane.IPyWidget(leaflet_map, width=500)\n",
    "\n",
    "def update_container(city, leaflet_map=leaflet_map):\n",
    "    leaflet_map.center = cities[city]\n",
    "city.rx.watch(update_container)\n",
    "    \n",
    "pn.Column(city, container)"
   ]
  },
  {
   "cell_type": "markdown",
   "metadata": {},
   "source": [
    "Try selecting another city and watch the map update with a nice, smooth transition."
   ]
  },
  {
   "cell_type": "markdown",
   "metadata": {},
   "source": [
    "### Respond to User Input\n",
    "\n",
    "You may respond to user input using `bind`, `sync_with_widget`, event callbacks, the [traitlets observer pattern](https://traitlets.readthedocs.io/en/stable/using_traitlets.html#observe) and more.\n",
    "\n",
    "We highly recommend checking out the how-to guide [Interact with ipywidgets](../../how_to/dataclass/ipywidget.md) for much more functionality, inspiration and detail."
   ]
  },
  {
   "cell_type": "markdown",
   "metadata": {},
   "source": [
    "### `pn.bind`"
   ]
  },
  {
   "cell_type": "markdown",
   "metadata": {},
   "source": [
    "Any ipywidget with a `value` trait can be used with `pn.bind`. For example, here we declare a function that binds to the value of a `FloatSlider`:"
   ]
  },
  {
   "cell_type": "code",
   "execution_count": null,
   "metadata": {},
   "outputs": [],
   "source": [
    "slider = ipw.IntSlider(description='Slider', min=-5, max=5)\n",
    "\n",
    "def cb(value):\n",
    "    return 'The slider value is ' + (\n",
    "        'negative' if value < 0 else 'nonnegative'\n",
    "    )\n",
    "\n",
    "pn.Row(slider, pn.bind(cb, slider))"
   ]
  },
  {
   "cell_type": "markdown",
   "metadata": {},
   "source": [
    "### `sync_with_widget`\n",
    "\n",
    "You can synchronize an ipywidget with a Panel widget using the `sync_with_widget` method:"
   ]
  },
  {
   "cell_type": "code",
   "execution_count": null,
   "metadata": {},
   "outputs": [],
   "source": [
    "import ipyleaflet as ipyl\n",
    "import panel as pn\n",
    "\n",
    "pn.extension(\"ipywidgets\")\n",
    "\n",
    "cities = {\n",
    "    \"London\": (51.5074, 0.1278),\n",
    "    \"Paris\": (48.8566, 2.3522),\n",
    "    \"New York\": (40.7128, -74.0060)\n",
    "}\n",
    "\n",
    "city = pn.widgets.Select(name=\"City\", options=list(cities))\n",
    "leaflet_map = ipyl.Map(zoom=4, center=cities[city.value])\n",
    "\n",
    "zoom_widget = pn.widgets.FloatSlider(value=2.0, start=1.0, end=24.0, name=\"Zoom\")\n",
    "zoom_control_widget = pn.widgets.Checkbox(value=True, name=\"Show Zoom Control\")\n",
    "\n",
    "pn.dataclass.sync_with_widget(leaflet_map, zoom_widget, \"zoom\")\n",
    "pn.dataclass.sync_with_widget(leaflet_map, zoom_control_widget, \"zoom_control\")\n",
    "pn.Column(leaflet_map, zoom_widget, zoom_control_widget).servable()"
   ]
  },
  {
   "cell_type": "markdown",
   "metadata": {},
   "source": [
    "This example only scratches the surface of what's available in the `panel.dataclass` namespace. **Check out out the how-to guide [Interact with ipywidgets](../../how_to/dataclass/ipywidget.md) for much more inspiration and detail**."
   ]
  },
  {
   "cell_type": "markdown",
   "metadata": {},
   "source": [
    "### Event Callbacks\n",
    "\n",
    "Sometimes, you may want to capture user interaction that isn’t available through a widget trait. For example, `ipyleaflet.CircleMarker` has an `.on_click()` method that allows you to execute a callback when a marker is clicked. In this case, you may want to define a callback that handles the event."
   ]
  },
  {
   "cell_type": "code",
   "execution_count": null,
   "metadata": {},
   "outputs": [],
   "source": [
    "import ipyleaflet as ipyl\n",
    "\n",
    "import panel as pn\n",
    "\n",
    "pn.extension(\"ipywidgets\")\n",
    "\n",
    "london = (51.5, 359.9)\n",
    "\n",
    "# Stores the number of clicks\n",
    "n_clicks = pn.rx(0)\n",
    "\n",
    "\n",
    "# A click callback that updates the reactive value\n",
    "def on_click(**kwargs):\n",
    "    n_clicks.rx.value += 1\n",
    "\n",
    "\n",
    "# Create the map, add the CircleMarker, and register the map with Shiny\n",
    "marker = ipyl.CircleMarker(location=london)\n",
    "marker.on_click(on_click)\n",
    "map_ = ipyl.Map(center=london, zoom=7)\n",
    "map_.add_layer(marker)\n",
    "\n",
    "clicks_text = pn.rx(\"**Number of clicks: {clicks}**\").format(clicks=n_clicks)\n",
    "pn.Column(map_, pn.pane.Markdown(clicks_text))"
   ]
  },
  {
   "cell_type": "markdown",
   "metadata": {},
   "source": [
    "Click the blue circle and observe how the text below the map updates.\n",
    "\n",
    "To read more about event callbacks, see the [Widget Events](https://ipywidgets.readthedocs.io/en/stable/examples/Widget%20Events.html) section of the ipywidgets documentation."
   ]
  },
  {
   "cell_type": "markdown",
   "metadata": {},
   "source": [
    "### `traitlets` `observe` method\n",
    "\n",
    "If you are already familiar with the [traitlets observer pattern](https://traitlets.readthedocs.io/en/stable/using_traitlets.html#observe) you may also use this API."
   ]
  },
  {
   "cell_type": "code",
   "execution_count": null,
   "metadata": {},
   "outputs": [],
   "source": [
    "caption = ipw.Label(value='The slider value is nonnegative')\n",
    "slider = ipw.IntSlider(min=-5, max=5, value=1, description='Slider')\n",
    "\n",
    "def handle_slider_change(change):\n",
    "    caption.value = 'The slider value is ' + (\n",
    "        'negative' if change.new < 0 else 'nonnegative'\n",
    "    )\n",
    "\n",
    "slider.observe(handle_slider_change, names='value')\n",
    "\n",
    "pn.Row(slider, caption)"
   ]
  },
  {
   "cell_type": "markdown",
   "metadata": {},
   "source": [
    "## Sizing\n",
    "\n",
    "You might need to experiment with the the ipywidget `.layout.height` and `.layout.width` parameters and the `IPyWidget` pane `.height`, `width`, and `sizing_mode` parameters to get our use case correctly sized.\n",
    "\n",
    "Let's start with a simple example to illustrate the challenge: Nothing is visible in the first output cell below."
   ]
  },
  {
   "cell_type": "code",
   "execution_count": null,
   "metadata": {},
   "outputs": [],
   "source": [
    "import ipyleaflet as ipyl\n",
    "import panel as pn\n",
    "\n",
    "pn.extension(\"ipywidgets\")\n",
    "\n",
    "map = ipyl.Map(zoom=4)\n",
    "pn.pane.IPyWidget(map, height=200)"
   ]
  },
  {
   "cell_type": "markdown",
   "metadata": {},
   "source": [
    "Let's add a border to see what happens."
   ]
  },
  {
   "cell_type": "code",
   "execution_count": null,
   "metadata": {},
   "outputs": [],
   "source": [
    "map = ipyl.Map(zoom=4)\n",
    "pn.pane.IPyWidget(map, height=200, styles={\"border\": \"1px solid black\"})"
   ]
  },
  {
   "cell_type": "markdown",
   "metadata": {},
   "source": [
    "We can see that the width is close to zero.\n",
    "\n",
    "We can solve this problem by setting the `ipywidgets` width and height to `\"100%\"` and then controlling the `height`, `width` and/ or `sizing_mode` of the `IPyWidget` pane."
   ]
  },
  {
   "cell_type": "code",
   "execution_count": null,
   "metadata": {},
   "outputs": [],
   "source": [
    "map = ipyl.Map(zoom=4)\n",
    "map.layout.width = map.layout.height = \"100%\"\n",
    "pn.pane.IPyWidget(map, height=200, width=200, styles={\"border\": \"1px solid black\"})"
   ]
  },
  {
   "cell_type": "code",
   "execution_count": null,
   "metadata": {},
   "outputs": [],
   "source": [
    "map = ipyl.Map(zoom=4)\n",
    "map.layout.width = map.layout.height = \"100%\"\n",
    "pn.pane.IPyWidget(map, height=300, sizing_mode=\"stretch_width\", styles={\"border\": \"1px solid black\"})"
   ]
  },
  {
   "cell_type": "markdown",
   "metadata": {},
   "source": [
    "## Example: LonBoard"
   ]
  },
  {
   "cell_type": "markdown",
   "metadata": {},
   "source": [
    "For a larger example, check out how Panel works with [`lonboard`](https://developmentseed.org/lonboard/latest/) [here](https://developmentseed.org/lonboard/latest/ecosystem/panel/).\n",
    "\n",
    "[![Panel lonboard example](https://assets.holoviz.org/panel/examples/panel-lonboard-application.gif)](https://developmentseed.org/lonboard/latest/ecosystem/panel/)"
   ]
  },
  {
   "cell_type": "markdown",
   "metadata": {},
   "source": [
    "## More Examples\n",
    "\n",
    "You can find specific examples by searching our [Discourse](https://discourse.holoviz.org/) site. Remember to share your examples too. Thanks."
   ]
  },
  {
   "cell_type": "markdown",
   "metadata": {},
   "source": [
    "## Limitations\n",
    "\n",
    "The ipywidgets support has some limitations because it integrates two very distinct ecosystems. In particular, it is not yet possible to set up JS-linking between a Panel and an ipywidget object or support embedding. These limitations are not fundamental technical limitations and may be solved in the future."
   ]
  },
  {
   "cell_type": "markdown",
   "metadata": {},
   "source": [
    "## For Developers\n",
    "\n",
    "If you want to integrate your ipywidget better with Panel, we highly recommend using the [`AnyWidget`](https://anywidget.dev/) framework to develop that ipywidget.\n",
    "\n",
    "If you want to convert your `ipywidget` to a Panel native widget, you can do so with Panel's [`AnyWidgetComponent`](../custom_components/AnyWidgetComponent.ipynb), [`JSComponent`](../custom_components/JSComponent.ipynb), or [`ReactComponent`](../custom_components/ReactComponent.ipynb)."
   ]
  }
 ],
 "metadata": {
  "language_info": {
   "name": "python",
   "pygments_lexer": "ipython3"
  }
 },
 "nbformat": 4,
 "nbformat_minor": 4
}
