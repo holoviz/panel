{
 "cells": [
  {
   "cell_type": "code",
   "execution_count": null,
   "metadata": {},
   "outputs": [],
   "source": [
    "import panel as pn\n",
    "\n",
    "pn.extension()"
   ]
  },
  {
   "cell_type": "markdown",
   "metadata": {},
   "source": [
    "The ``EditableFloatSlider`` widget allows selecting selecting a numeric floating-point value within a set bounds using a slider and for more precise control offers an editable number input box.\n",
    "\n",
    "Discover more on using widgets to add interactivity to your applications in the [how-to guides on interactivity](../../how_to/interactivity/index.md). Alternatively, learn [how to set up callbacks and (JS-)links between parameters](../../how_to/links/index.md) or [how to use them as part of declarative UIs with Param](../../how_to/param/index.md).\n",
    "\n",
    "#### Parameters:\n",
    "\n",
    "For details on other options for customizing the component see the [layout](../../how_to/layout/index.md) and [styling](../../how_to/styling/index.md) how-to guides.\n",
    "\n",
    "##### Core\n",
    "\n",
    "* **``start``** (float): The lower bound for the slider, can be overridden by a lower `value`. \n",
    "* **``end``** (float): The upper bound for the slider, can be overridden by a higher `value`. \n",
    "* **``fixed_start``** (float | None): A fixed lower bound for the slider and input, `value` cannot exceed this.\n",
    "* **``fixed_end``** (float | None): A fixed upper bound for the slider and input, `value` cannot exceed this.\n",
    "* **``step``** (float): The interval between values\n",
    "* **``value``** (float): The selected value as a float type\n",
    "* **``value_throttled``** (float): The selected value as a float type throttled until mouseup\n",
    "\n",
    "##### Display\n",
    "\n",
    "* **``bar_color``** (color): Color of the slider bar as a hexadecimal RGB value\n",
    "* **``direction``** (str): Whether the slider should go from left to right ('ltr') or right to left ('rtl')\n",
    "* **``disabled``** (boolean): Whether the widget is editable\n",
    "* **``format``** (str, bokeh.models.TickFormatter): Formatter to apply to the slider value\n",
    "* **``name``** (str): The title of the widget\n",
    "* **``orientation``** (str): Whether the slider should be displayed in a 'horizontal' or 'vertical' orientation.\n",
    "* **``tooltips``** (boolean): Whether to display tooltips on the slider handle\n",
    "\n",
    "___"
   ]
  },
  {
   "cell_type": "code",
   "execution_count": null,
   "metadata": {},
   "outputs": [],
   "source": [
    "float_slider = pn.widgets.EditableFloatSlider(name='Float Slider', start=0, end=3.141, step=0.01, value=1.57)\n",
    "\n",
    "float_slider"
   ]
  },
  {
   "cell_type": "markdown",
   "metadata": {},
   "source": [
    "Here the `value` has no bounds and can exceed `end` and go below `start`. If `value` should be fixed to a certain range it can be set with `fixed_start` and `fixed_end`:"
   ]
  },
  {
   "cell_type": "code",
   "execution_count": null,
   "metadata": {},
   "outputs": [],
   "source": [
    "float_slider.fixed_start = -3.14"
   ]
  },
  {
   "cell_type": "markdown",
   "metadata": {},
   "source": [
    "The `value` of the widget is returned as a float and can be accessed and set like any other widget:"
   ]
  },
  {
   "cell_type": "code",
   "execution_count": null,
   "metadata": {},
   "outputs": [],
   "source": [
    "float_slider.value"
   ]
  },
  {
   "cell_type": "markdown",
   "metadata": {},
   "source": [
    "A custom format string or bokeh TickFormatter may be used to format the slider values:"
   ]
  },
  {
   "cell_type": "code",
   "execution_count": null,
   "metadata": {},
   "outputs": [],
   "source": [
    "from bokeh.models.formatters import PrintfTickFormatter\n",
    "\n",
    "str_format = pn.widgets.EditableFloatSlider(name='Distance', format='1[.]00')\n",
    "\n",
    "tick_format = pn.widgets.EditableFloatSlider(name='Distance', format=PrintfTickFormatter(format='%.3f m'))\n",
    "\n",
    "pn.Column(str_format, tick_format)"
   ]
  },
  {
   "cell_type": "markdown",
   "metadata": {},
   "source": [
    "### Controls\n",
    "\n",
    "Since the `EditableFloatSlider` widget is a composite widget its options can only be controlled from Python. Try out the effect of these parameters interactively:"
   ]
  },
  {
   "cell_type": "code",
   "execution_count": null,
   "metadata": {},
   "outputs": [],
   "source": [
    "pn.Row(float_slider.controls(jslink=False), float_slider)"
   ]
  }
 ],
 "metadata": {
  "language_info": {
   "name": "python",
   "pygments_lexer": "ipython3"
  }
 },
 "nbformat": 4,
 "nbformat_minor": 4
}
