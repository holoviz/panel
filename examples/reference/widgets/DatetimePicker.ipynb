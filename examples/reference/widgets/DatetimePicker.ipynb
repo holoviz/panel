{
 "cells": [
  {
   "cell_type": "code",
   "execution_count": null,
   "metadata": {},
   "outputs": [],
   "source": [
    "import datetime as dt\n",
    "\n",
    "import panel as pn\n",
    "\n",
    "pn.extension()"
   ]
  },
  {
   "cell_type": "markdown",
   "metadata": {},
   "source": [
    "The `DatetimePicker` widget allows selecting selecting a datetime value using a text box and the browser's datetime-picking utility.\n",
    "\n",
    "Discover more on using widgets to add interactivity to your applications in the [how-to guides on interactivity](../../how_to/interactivity/index.md). Alternatively, learn [how to set up callbacks and (JS-)links between parameters](../../how_to/links/index.md) or [how to use them as part of declarative UIs with Param](../../how_to/param/index.md).\n",
    "\n",
    "#### Parameters:\n",
    "\n",
    "For details on other options for customizing the component see the [layout](../../how_to/layout/index.md) and [styling](../../how_to/styling/index.md) how-to guides.\n",
    "\n",
    "##### Core\n",
    "\n",
    "* **`value`** (datetime): The selected value as a datetime type\n",
    "* **`start`** (date or datetime): Inclusive lower bound of the allowed date selection.\n",
    "* **`end`** (date or datetime): Inclusive upper bound of the allowed date selection.\n",
    "* **`disabled_dates`** (list): Dates to make unavailable for selection; others will be available\n",
    "* **`enabled_dates`** (list): Dates to make available for selection; others will be unavailable\n",
    "* **`enable_time`** (boolean): Enable editing of the time in the widget, default is True\n",
    "* **`enable_seconds`** (boolean): Enable editing of seconds in the widget, default is True\n",
    "* **`military_time`** (boolean): Enable 24 hours time in the widget, default is True\n",
    "\n",
    "##### Display\n",
    "\n",
    "* **`disabled`** (boolean): Whether the widget is editable\n",
    "* **`name`** (str): The title of the widget\n",
    "* **`visible`** (boolean): Whether the widget is visible\n",
    "\n",
    "___"
   ]
  },
  {
   "cell_type": "markdown",
   "metadata": {},
   "source": [
    "`DatetimePicker` uses a browser-dependent calendar widget to select the datetime:"
   ]
  },
  {
   "cell_type": "code",
   "execution_count": null,
   "metadata": {},
   "outputs": [],
   "source": [
    "datetime_picker = pn.widgets.DatetimePicker(\n",
    "    name='Datetime Picker', value=dt.datetime(2021, 3, 2, 12, 10)\n",
    ")\n",
    "\n",
    "pn.Column(datetime_picker, height=400)"
   ]
  },
  {
   "cell_type": "markdown",
   "metadata": {},
   "source": [
    "To ensure it is visible in a notebook we have placed it in a `Column` with a fixed height.\n",
    "\n",
    "`DatetimePicker.value` returns a datetime type that can be read out or set like other widgets:"
   ]
  },
  {
   "cell_type": "code",
   "execution_count": null,
   "metadata": {},
   "outputs": [],
   "source": [
    "datetime_picker.value"
   ]
  },
  {
   "cell_type": "markdown",
   "metadata": {},
   "source": [
    "### Controls\n",
    "\n",
    "The `DatetimePicker` widget exposes a number of options which can be changed from both Python and Javascript. Try out the effect of these parameters interactively:"
   ]
  },
  {
   "cell_type": "code",
   "execution_count": null,
   "metadata": {},
   "outputs": [],
   "source": [
    "pn.Row(datetime_picker.controls(jslink=True), datetime_picker)"
   ]
  }
 ],
 "metadata": {
  "language_info": {
   "name": "python",
   "pygments_lexer": "ipython3"
  }
 },
 "nbformat": 4,
 "nbformat_minor": 4
}
