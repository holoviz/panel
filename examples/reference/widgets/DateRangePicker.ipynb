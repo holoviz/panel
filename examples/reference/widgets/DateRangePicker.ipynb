{
 "cells": [
  {
   "cell_type": "code",
   "execution_count": null,
   "metadata": {},
   "outputs": [],
   "source": [
    "import datetime as dt\n",
    "\n",
    "import panel as pn\n",
    "\n",
    "pn.extension()"
   ]
  },
  {
   "cell_type": "markdown",
   "metadata": {},
   "source": [
    "The `DateRangePicker` widget allows selecting a date range using a text box and the browser's date-picking utility.\n",
    "\n",
    "Discover more on using widgets to add interactivity to your applications in the [how-to guides on interactivity](../../how_to/interactivity/index.md). Alternatively, learn [how to set up callbacks and (JS-)links between parameters](../../how_to/links/index.md) or [how to use them as part of declarative UIs with Param](../../how_to/param/index.md).\n",
    "\n",
    "#### Parameters:\n",
    "\n",
    "For details on other options for customizing the component see the [layout](../../how_to/layout/index.md) and [styling](../../how_to/styling/index.md) how-to guides.\n",
    "\n",
    "##### Core\n",
    "\n",
    "* **`end`** (date): The latest selectable date\n",
    "* **`start`** (date): The earliest selectable date\n",
    "* **`value`** (tuple): Tuple of upper and lower bounds of the selected range expressed as date types\n",
    "\n",
    "##### Display\n",
    "\n",
    "* **`disabled`** (boolean): Whether the widget is editable\n",
    "* **`name`** (str): The title of the widget\n",
    "* **`disabled_dates`** (list): dates to make unavailable for selection; others will be available\n",
    "* **`enabled_dates`** (list): dates to make available for selection; others will be unavailable\n",
    "\n",
    "___"
   ]
  },
  {
   "cell_type": "markdown",
   "metadata": {},
   "source": [
    "``DateRangePicker`` uses a browser-dependent calendar widget to select the date range:"
   ]
  },
  {
   "cell_type": "code",
   "execution_count": null,
   "metadata": {},
   "outputs": [],
   "source": [
    "date_range_picker = pn.widgets.DateRangePicker(\n",
    "    name='Date Range Picker', value=(dt.date(2020, 1, 1), dt.date(2020, 1, 10))\n",
    ")\n",
    "\n",
    "pn.Column(date_range_picker, height=400)"
   ]
  },
  {
   "cell_type": "markdown",
   "metadata": {},
   "source": [
    "To ensure it is visible in a notebook we have placed it in a `Column` with a fixed height.\n",
    "\n",
    "`DateRangePicker.value` returns a tuple of date values type that can be read out or set like other widgets:"
   ]
  },
  {
   "cell_type": "code",
   "execution_count": null,
   "metadata": {},
   "outputs": [],
   "source": [
    "date_range_picker.value"
   ]
  },
  {
   "cell_type": "markdown",
   "metadata": {},
   "source": [
    "### Controls\n",
    "\n",
    "The `DateRangePicker` widget exposes a number of options which can be changed from both Python and Javascript. Try out \n",
    "the effect of these parameters interactively:"
   ]
  },
  {
   "cell_type": "code",
   "execution_count": null,
   "metadata": {},
   "outputs": [],
   "source": [
    "pn.Row(date_range_picker.controls(jslink=True), date_range_picker)"
   ]
  }
 ],
 "metadata": {
  "language_info": {
   "name": "python",
   "pygments_lexer": "ipython3"
  }
 },
 "nbformat": 4,
 "nbformat_minor": 4
}
