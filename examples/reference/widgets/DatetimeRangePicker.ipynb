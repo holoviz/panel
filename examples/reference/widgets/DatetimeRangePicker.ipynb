{
 "cells": [
  {
   "cell_type": "code",
   "execution_count": null,
   "metadata": {},
   "outputs": [],
   "source": [
    "import datetime as dt\n",
    "\n",
    "import panel as pn\n",
    "\n",
    "pn.extension()"
   ]
  },
  {
   "cell_type": "markdown",
   "metadata": {},
   "source": [
    "The `DatetimeRangePicker` widget allows selecting selecting a datetime value using a text box and the browser's datetime-picking utility.\n",
    "\n",
    "Discover more on using widgets to add interactivity to your applications in the [how-to guides on interactivity](../../how_to/interactivity/index.md). Alternatively, learn [how to set up callbacks and (JS-)links between parameters](../../how_to/links/index.md) or [how to use them as part of declarative UIs with Param](../../how_to/param/index.md).\n",
    "\n",
    "#### Parameters:\n",
    "\n",
    "For details on other options for customizing the component see the [layout](../../how_to/layout/index.md) and [styling](../../how_to/styling/index.md) how-to guides.\n",
    "\n",
    "##### Core\n",
    "\n",
    "* **`value`** (tuple): Tuple of upper and lower bounds of the selected range expressed as datetime types\n",
    "* **`start`** (date or datetime): Inclusive lower bound of the allowed date selection. \n",
    "* **`end`** (date or datetime): Inclusive upper bound of the allowed date selection. \n",
    "* **`disabled_dates`** (list): Dates to make unavailable for selection; others will be available\n",
    "* **`enabled_dates`** (list): Dates to make available for selection; others will be unavailable\n",
    "* **`enable_time:`** (boolean): Enable editing of the time in the widget, default is True\n",
    "* **`enable_seconds`** (boolean): Enable editing of seconds in the widget, default is True\n",
    "* **`military_time`** (boolean): Whether to display time in 24 hour format, default is True\n",
    "\n",
    "##### Display\n",
    "\n",
    "* **`disabled`** (boolean): Whether the widget is editable\n",
    "* **`name`** (str): The title of the widget\n",
    "* **`visible`** (boolean): Whether the widget is visible\n",
    "\n",
    "___"
   ]
  },
  {
   "cell_type": "markdown",
   "metadata": {},
   "source": [
    "`DatetimeRangePicker` uses a browser-dependent calendar widget to select the datetime:"
   ]
  },
  {
   "cell_type": "code",
   "execution_count": null,
   "metadata": {},
   "outputs": [],
   "source": [
    "datetime_range_picker = pn.widgets.DatetimeRangePicker(\n",
    "    name='Datetime Range Picker', value=(dt.datetime(2021, 3, 2, 12, 10), dt.datetime(2021, 3, 2, 12, 22))\n",
    ")\n",
    "\n",
    "pn.Column(datetime_range_picker, height=400)"
   ]
  },
  {
   "cell_type": "markdown",
   "metadata": {},
   "source": [
    "To ensure it is visible in a notebook we have placed it in a `Column` with a fixed height.\n",
    "\n",
    "`DatetimeRangePicker.value` returns a tuple of datetime values that can be read out and set like other widgets:"
   ]
  },
  {
   "cell_type": "code",
   "execution_count": null,
   "metadata": {},
   "outputs": [],
   "source": [
    "datetime_range_picker.value"
   ]
  },
  {
   "cell_type": "markdown",
   "metadata": {},
   "source": [
    "### Controls\n",
    "\n",
    "The `DatetimeRangePicker` widget exposes a number of options which can be changed from both Python and Javascript. Try out the effect of these parameters interactively:"
   ]
  },
  {
   "cell_type": "code",
   "execution_count": null,
   "metadata": {},
   "outputs": [],
   "source": [
    "pn.Row(datetime_range_picker.controls(jslink=True), datetime_range_picker)"
   ]
  }
 ],
 "metadata": {
  "language_info": {
   "name": "python",
   "pygments_lexer": "ipython3"
  }
 },
 "nbformat": 4,
 "nbformat_minor": 4
}
