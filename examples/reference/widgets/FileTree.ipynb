{
 "cells": [
  {
   "cell_type": "code",
   "execution_count": null,
   "metadata": {},
   "outputs": [],
   "source": [
    "import panel as pn\n",
    "pn.extension('tree')"
   ]
  },
  {
   "cell_type": "markdown",
   "metadata": {},
   "source": [
    "The `FileTree` widget allows browsing the filesystem on the server and selecting one or more files in a directory.\n",
    "\n",
    "Discover more on using widgets to add interactivity to your applications in the [how-to guides on interactivity](../how_to/interactivity/index.md). Alternatively, learn [how to set up callbacks and (JS-)links between parameters](../../how_to/links/index.md) or [how to use them as part of declarative UIs with Param](../../how_to/param/index.html).\n",
    "\n",
    "#### Parameters:\n",
    "\n",
    "For details on other options for customizing the component see the [layout](../../how_to/layout/index.md) and [styling](../../how_to/styling/index.md) how-to guides.\n",
    "\n",
    "##### Core\n",
    "\n",
    "* **`directory`** (str): The directory to browse (cannot access files above this directory).\n",
    "* **`file_pattern`** (str, default='*'): A glob-like query expression to limit the displayed files.\n",
    "* **`only_files`** (bool, default=False): Whether to only allow selecting files.\n",
    "* **`root_directory`** (str, default=None): If set to non-None value overrides directory parameter as the root\n",
    "directory beyond which users cannot navigate.\n",
    "* **`sort`** (bool): Whether to sort notes alphabetically.\n",
    "* **`value`** (list[str]): A list of file names.\n",
    "\n",
    "\n",
    "___"
   ]
  },
  {
   "cell_type": "markdown",
   "metadata": {},
   "source": [
    "The `FileTree` widget allows exploring the specified directory on the server's filesystem and any directories contained within it.\n",
    "\n",
    "The actual file selector displays the contents of the current directory, to show content of a sub-directory click on an arrow and the `FileTree` will expand with that sub-directories content. Selecting files or directories is as easy clicking on the Checkbox."
   ]
  },
  {
   "cell_type": "code",
   "execution_count": null,
   "metadata": {},
   "outputs": [],
   "source": [
    "files = pn.widgets.FileTree('~')\n",
    "files"
   ]
  },
  {
   "cell_type": "markdown",
   "metadata": {},
   "source": [
    "To get the currently selected files simply access the `value` parameter:"
   ]
  },
  {
   "cell_type": "code",
   "execution_count": null,
   "metadata": {},
   "outputs": [],
   "source": [
    "files.value"
   ]
  },
  {
   "cell_type": "markdown",
   "metadata": {},
   "source": [
    "## Remote filesystem\n",
    "\n",
    "By using the power of [`fsspec`](https://filesystem-spec.readthedocs.io/en/latest/) we can connect to remote filesystems. In the example below we use the `s3fs` package to connect to a remote S3 server"
   ]
  },
  {
   "cell_type": "code",
   "execution_count": null,
   "metadata": {},
   "outputs": [],
   "source": [
    "import s3fs\n",
    "\n",
    "fs = s3fs.S3FileSystem(anon=True)\n",
    "\n",
    "s3_files = pn.widgets.FileTree(directory=\"s3://datasets.holoviz.org\", fs=fs)\n",
    "s3_files"
   ]
  },
  {
   "cell_type": "code",
   "execution_count": null,
   "metadata": {},
   "outputs": [],
   "source": [
    "s3_files.value"
   ]
  }
 ],
 "metadata": {
  "language_info": {
   "name": "python",
   "pygments_lexer": "ipython3"
  }
 },
 "nbformat": 4,
 "nbformat_minor": 4
}
