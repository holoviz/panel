{
 "cells": [
  {
   "cell_type": "code",
   "execution_count": null,
   "id": "9243ed03-da2c-4e4f-81f3-b679ebcfe251",
   "metadata": {},
   "outputs": [],
   "source": [
    "import panel as pn\n",
    "\n",
    "pn.pane.Markdown(f\"{pn.state.cache['num']}\", css_classes=['counter']).servable()"
   ]
  }
 ],
 "metadata": {
  "language_info": {
   "name": "python",
   "pygments_lexer": "ipython3"
  }
 },
 "nbformat": 4,
 "nbformat_minor": 5
}
